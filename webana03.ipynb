{
 "cells": [
  {
   "cell_type": "code",
   "execution_count": 4,
   "id": "56eda627-545b-4cb9-b4ec-16a7e2902a5f",
   "metadata": {},
   "outputs": [],
   "source": [
    "# 找40万平衡数据\n",
    "\n",
    "import pandas as pd\n",
    "\n",
    "df = pd.read_csv(\"E:/作业/杂物/web日志分析/log01.csv\", skiprows=range(1, 3000001),  nrows=3000000)\n",
    "# 随机抽样（可改 n=1000000 抽少一点）\n",
    "df_sample = df.sample(n=3000000, random_state=36)\n",
    "\n",
    "# 保存抽样结果\n",
    "df_sample.to_csv(\"E:/作业/杂物/web日志分析/sampled_004.csv\", index=False)\n"
   ]
  },
  {
   "cell_type": "code",
   "execution_count": 5,
   "id": "5c0902da-e1f6-4f75-834a-ba6ba8ab1aa0",
   "metadata": {},
   "outputs": [
    {
     "name": "stdout",
     "output_type": "stream",
     "text": [
      "打标签完成\n"
     ]
    }
   ],
   "source": [
    "import pandas as pd\n",
    "\n",
    "df = pd.read_csv(\"E:/作业/杂物/web日志分析/sampled_004.csv\")  # 读取数据\n",
    "\n",
    "df['score'] = 0\n",
    "df['label'] = 0  # 默认都是正常的，后续高分的我们再打成 1\n",
    "\n",
    "for i, row in df.iterrows():  #和上边的评分规则一模一样\n",
    "    score = 0\n",
    "    path = str(row['path']) if pd.notna(row['path']) else \"\"\n",
    "    status = str(row['status']) if pd.notna(row['status']) else \"\"\n",
    "    user_agent = str(row['user_agent']) if pd.notna(row['user_agent']) else \"\"\n",
    "\n",
    "    if len(path) > 100:\n",
    "        score += 2\n",
    "    dangerous_words = ['script', 'union', 'select', 'drop', 'admin', '..', 'passwd']\n",
    "    for word in dangerous_words:\n",
    "        if word.lower() in path.lower():\n",
    "            score += 3\n",
    "    if status.startswith('4') or status.startswith('5'):\n",
    "        score += 1\n",
    "    if len(user_agent) < 20:\n",
    "        score += 2\n",
    "    special_chars = ['<', '>', '%', '&', ';']\n",
    "    for char in special_chars:\n",
    "        if char in path:\n",
    "            score += 1\n",
    "\n",
    "    df.at[i, 'score'] = score\n",
    "    df.at[i, 'label'] = 1 if score >= 3 else 0  # 可疑打为1，正常为0\n",
    "\n",
    "\n",
    "df.to_csv(\"E:/作业/杂物/web日志分析/sampled_004_labeled.csv\", index=False, encoding='utf-8-sig')  # 保存为新的带伪标签的数据集\n",
    "\n",
    "print(\"打标签完成\")"
   ]
  },
  {
   "cell_type": "code",
   "execution_count": 6,
   "id": "f4c2f75e-be65-41e1-9b55-1d182e6e88cb",
   "metadata": {},
   "outputs": [],
   "source": [
    "df_labeled = pd.read_csv(\"E:/作业/杂物/web日志分析/sampled_004_labeled.csv\")\n",
    "\n",
    "df_bad = df_labeled[df_labeled['label'] == 1].sample(n=200000, random_state=42)\n",
    "df_good = df_labeled[df_labeled['label'] == 0].sample(n=200000, random_state=42)\n",
    "\n",
    "df_final = pd.concat([df_bad, df_good]).sample(frac=1, random_state=42)  # 打乱顺序\n",
    "df_final.to_csv(\"E:/作业/杂物/web日志分析/final_dataset111.csv\", index=False)\n"
   ]
  },
  {
   "cell_type": "code",
   "execution_count": null,
   "id": "f50eb31a-356f-4fa9-bc4e-15e5b5080627",
   "metadata": {},
   "outputs": [],
   "source": []
  }
 ],
 "metadata": {
  "kernelspec": {
   "display_name": "Python 3 (ipykernel)",
   "language": "python",
   "name": "python3"
  },
  "language_info": {
   "codemirror_mode": {
    "name": "ipython",
    "version": 3
   },
   "file_extension": ".py",
   "mimetype": "text/x-python",
   "name": "python",
   "nbconvert_exporter": "python",
   "pygments_lexer": "ipython3",
   "version": "3.12.7"
  }
 },
 "nbformat": 4,
 "nbformat_minor": 5
}
